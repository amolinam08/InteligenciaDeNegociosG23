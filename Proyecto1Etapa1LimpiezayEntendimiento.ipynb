{
  "nbformat": 4,
  "nbformat_minor": 0,
  "metadata": {
    "colab": {
      "provenance": []
    },
    "kernelspec": {
      "name": "python3",
      "display_name": "Python 3"
    },
    "language_info": {
      "name": "python"
    }
  },
  "cells": [
    {
      "cell_type": "markdown",
      "source": [
        "# Proyecto 1 Parte 1 Inteligencia de Negocios\n",
        "###Grupo: G23\n",
        "###Integrantes:\n",
        "- Andres Molina - 201923434"
      ],
      "metadata": {
        "id": "Oz3UiC2_1-wy"
      }
    },
    {
      "cell_type": "markdown",
      "source": [
        "## 1. (10%)Entendimiento de negocio y enfoque analitico"
      ],
      "metadata": {
        "id": "2c5FD3gu3tPW"
      }
    },
    {
      "cell_type": "markdown",
      "source": [
        "**Oportunidad/Problema Del Negocio**: La oportunidad de negocio es el análisis de sentimientos de comentarios de películas en español, con el fin de clasificarlos como positivos o negativos. Esta tarea puede ayudar a las empresas de cine y a las plataformas de streaming a entender mejor la percepción de los usuarios sobre sus producciones y así tomar decisiones de negocio más informadas.\n",
        "\n",
        "**Enfoque analítico**: El enfoque analítico propuesto para este proyecto consiste en la utilización de técnicas de procesamiento de lenguaje natural y aprendizaje automático para clasificar los comentarios de las películas como positivos o negativos. Se proponen la utilización de un modelos Random Forest, KNN y Arbol de decision extendido para realizar la tarea de clasificación.\n",
        "\n",
        "**Organización y rol dentro de ella que se beneficia con la oportunidad definida**: Las empresas de cine y las plataformas de streaming son las principales beneficiarias de este análisis, ya que les permitirá entender mejor la percepción de los usuarios sobre sus producciones y tomar decisiones de negocio más informadas.\n",
        "\n",
        "**Técnicas y algoritmos a utilizar**: El enfoque analítico propuesto utilizará técnicas de procesamiento de lenguaje natural y aprendizaje automático para clasificar los comentarios de las películas como positivos o negativos. Además de Random Forest, vamos a utilizar otros dos algoritmos de clasificacion debido a la naturaleza del objetivo; Arbol de decision y KNN."
      ],
      "metadata": {
        "id": "YjBqdabOmtRK"
      }
    },
    {
      "cell_type": "markdown",
      "source": [
        "## 2. (25%) Entendimiento y preparacion de los datos"
      ],
      "metadata": {
        "id": "o_AbAkSf33xG"
      }
    },
    {
      "cell_type": "markdown",
      "source": [
        "###Importacion de librerías y lectura de datos\n"
      ],
      "metadata": {
        "id": "RX1ql5NmtDIx"
      }
    },
    {
      "cell_type": "code",
      "source": [
        "!pip install ydata-profiling"
      ],
      "metadata": {
        "colab": {
          "base_uri": "https://localhost:8080/"
        },
        "id": "HO1NhBoHQrf7",
        "outputId": "98fde704-7d15-452b-873c-be4683141326"
      },
      "execution_count": 2,
      "outputs": [
        {
          "output_type": "stream",
          "name": "stdout",
          "text": [
            "Looking in indexes: https://pypi.org/simple, https://us-python.pkg.dev/colab-wheels/public/simple/\n",
            "Collecting ydata-profiling\n",
            "  Downloading ydata_profiling-4.1.2-py2.py3-none-any.whl (345 kB)\n",
            "\u001b[?25l     \u001b[90m━━━━━━━━━━━━━━━━━━━━━━━━━━━━━━━━━━━━━━━━\u001b[0m \u001b[32m0.0/345.9 KB\u001b[0m \u001b[31m?\u001b[0m eta \u001b[36m-:--:--\u001b[0m\r\u001b[2K     \u001b[90m━━━━━━━━━━━━━━━━━━━━━━━━━━━━━━━━━━━━━━\u001b[0m \u001b[32m345.9/345.9 KB\u001b[0m \u001b[31m26.6 MB/s\u001b[0m eta \u001b[36m0:00:00\u001b[0m\n",
            "\u001b[?25hRequirement already satisfied: PyYAML<6.1,>=5.0.0 in /usr/local/lib/python3.9/dist-packages (from ydata-profiling) (6.0)\n",
            "Requirement already satisfied: numpy<1.24,>=1.16.0 in /usr/local/lib/python3.9/dist-packages (from ydata-profiling) (1.22.4)\n",
            "Collecting typeguard<2.14,>=2.13.2\n",
            "  Downloading typeguard-2.13.3-py3-none-any.whl (17 kB)\n",
            "Collecting tqdm<4.65,>=4.48.2\n",
            "  Downloading tqdm-4.64.1-py2.py3-none-any.whl (78 kB)\n",
            "\u001b[2K     \u001b[90m━━━━━━━━━━━━━━━━━━━━━━━━━━━━━━━━━━━━━━━━\u001b[0m \u001b[32m78.5/78.5 KB\u001b[0m \u001b[31m12.2 MB/s\u001b[0m eta \u001b[36m0:00:00\u001b[0m\n",
            "\u001b[?25hRequirement already satisfied: pandas!=1.4.0,<1.6,>1.1 in /usr/local/lib/python3.9/dist-packages (from ydata-profiling) (1.4.4)\n",
            "Requirement already satisfied: phik<0.13,>=0.11.1 in /usr/local/lib/python3.9/dist-packages (from ydata-profiling) (0.12.3)\n",
            "Collecting matplotlib<3.7,>=3.2\n",
            "  Downloading matplotlib-3.6.3-cp39-cp39-manylinux_2_17_x86_64.manylinux2014_x86_64.whl (11.8 MB)\n",
            "\u001b[2K     \u001b[90m━━━━━━━━━━━━━━━━━━━━━━━━━━━━━━━━━━━━━━━━\u001b[0m \u001b[32m11.8/11.8 MB\u001b[0m \u001b[31m91.2 MB/s\u001b[0m eta \u001b[36m0:00:00\u001b[0m\n",
            "\u001b[?25hRequirement already satisfied: multimethod<1.10,>=1.4 in /usr/local/lib/python3.9/dist-packages (from ydata-profiling) (1.9.1)\n",
            "Collecting visions[type_image_path]==0.7.5\n",
            "  Downloading visions-0.7.5-py3-none-any.whl (102 kB)\n",
            "\u001b[2K     \u001b[90m━━━━━━━━━━━━━━━━━━━━━━━━━━━━━━━━━━━━━━\u001b[0m \u001b[32m102.7/102.7 KB\u001b[0m \u001b[31m16.3 MB/s\u001b[0m eta \u001b[36m0:00:00\u001b[0m\n",
            "\u001b[?25hCollecting scipy<1.10,>=1.4.1\n",
            "  Downloading scipy-1.9.3-cp39-cp39-manylinux_2_17_x86_64.manylinux2014_x86_64.whl (33.8 MB)\n",
            "\u001b[2K     \u001b[90m━━━━━━━━━━━━━━━━━━━━━━━━━━━━━━━━━━━━━━━━\u001b[0m \u001b[32m33.8/33.8 MB\u001b[0m \u001b[31m37.7 MB/s\u001b[0m eta \u001b[36m0:00:00\u001b[0m\n",
            "\u001b[?25hRequirement already satisfied: pydantic<1.11,>=1.8.1 in /usr/local/lib/python3.9/dist-packages (from ydata-profiling) (1.10.7)\n",
            "Requirement already satisfied: seaborn<0.13,>=0.10.1 in /usr/local/lib/python3.9/dist-packages (from ydata-profiling) (0.12.2)\n",
            "Requirement already satisfied: imagehash==4.3.1 in /usr/local/lib/python3.9/dist-packages (from ydata-profiling) (4.3.1)\n",
            "Requirement already satisfied: jinja2<3.2,>=2.11.1 in /usr/local/lib/python3.9/dist-packages (from ydata-profiling) (3.1.2)\n",
            "Requirement already satisfied: htmlmin==0.1.12 in /usr/local/lib/python3.9/dist-packages (from ydata-profiling) (0.1.12)\n",
            "Requirement already satisfied: requests<2.29,>=2.24.0 in /usr/local/lib/python3.9/dist-packages (from ydata-profiling) (2.27.1)\n",
            "Requirement already satisfied: statsmodels<0.14,>=0.13.2 in /usr/local/lib/python3.9/dist-packages (from ydata-profiling) (0.13.5)\n",
            "Requirement already satisfied: PyWavelets in /usr/local/lib/python3.9/dist-packages (from imagehash==4.3.1->ydata-profiling) (1.4.1)\n",
            "Requirement already satisfied: pillow in /usr/local/lib/python3.9/dist-packages (from imagehash==4.3.1->ydata-profiling) (8.4.0)\n",
            "Requirement already satisfied: networkx>=2.4 in /usr/local/lib/python3.9/dist-packages (from visions[type_image_path]==0.7.5->ydata-profiling) (3.0)\n",
            "Requirement already satisfied: attrs>=19.3.0 in /usr/local/lib/python3.9/dist-packages (from visions[type_image_path]==0.7.5->ydata-profiling) (22.2.0)\n",
            "Requirement already satisfied: tangled-up-in-unicode>=0.0.4 in /usr/local/lib/python3.9/dist-packages (from visions[type_image_path]==0.7.5->ydata-profiling) (0.2.0)\n",
            "Requirement already satisfied: MarkupSafe>=2.0 in /usr/local/lib/python3.9/dist-packages (from jinja2<3.2,>=2.11.1->ydata-profiling) (2.1.2)\n",
            "Requirement already satisfied: python-dateutil>=2.7 in /usr/local/lib/python3.9/dist-packages (from matplotlib<3.7,>=3.2->ydata-profiling) (2.8.2)\n",
            "Requirement already satisfied: cycler>=0.10 in /usr/local/lib/python3.9/dist-packages (from matplotlib<3.7,>=3.2->ydata-profiling) (0.11.0)\n",
            "Requirement already satisfied: contourpy>=1.0.1 in /usr/local/lib/python3.9/dist-packages (from matplotlib<3.7,>=3.2->ydata-profiling) (1.0.7)\n",
            "Requirement already satisfied: fonttools>=4.22.0 in /usr/local/lib/python3.9/dist-packages (from matplotlib<3.7,>=3.2->ydata-profiling) (4.39.3)\n",
            "Requirement already satisfied: kiwisolver>=1.0.1 in /usr/local/lib/python3.9/dist-packages (from matplotlib<3.7,>=3.2->ydata-profiling) (1.4.4)\n",
            "Requirement already satisfied: packaging>=20.0 in /usr/local/lib/python3.9/dist-packages (from matplotlib<3.7,>=3.2->ydata-profiling) (23.0)\n",
            "Requirement already satisfied: pyparsing>=2.2.1 in /usr/local/lib/python3.9/dist-packages (from matplotlib<3.7,>=3.2->ydata-profiling) (3.0.9)\n",
            "Requirement already satisfied: pytz>=2020.1 in /usr/local/lib/python3.9/dist-packages (from pandas!=1.4.0,<1.6,>1.1->ydata-profiling) (2022.7.1)\n",
            "Requirement already satisfied: joblib>=0.14.1 in /usr/local/lib/python3.9/dist-packages (from phik<0.13,>=0.11.1->ydata-profiling) (1.1.1)\n",
            "Requirement already satisfied: typing-extensions>=4.2.0 in /usr/local/lib/python3.9/dist-packages (from pydantic<1.11,>=1.8.1->ydata-profiling) (4.5.0)\n",
            "Requirement already satisfied: idna<4,>=2.5 in /usr/local/lib/python3.9/dist-packages (from requests<2.29,>=2.24.0->ydata-profiling) (3.4)\n",
            "Requirement already satisfied: urllib3<1.27,>=1.21.1 in /usr/local/lib/python3.9/dist-packages (from requests<2.29,>=2.24.0->ydata-profiling) (1.26.15)\n",
            "Requirement already satisfied: certifi>=2017.4.17 in /usr/local/lib/python3.9/dist-packages (from requests<2.29,>=2.24.0->ydata-profiling) (2022.12.7)\n",
            "Requirement already satisfied: charset-normalizer~=2.0.0 in /usr/local/lib/python3.9/dist-packages (from requests<2.29,>=2.24.0->ydata-profiling) (2.0.12)\n",
            "Requirement already satisfied: patsy>=0.5.2 in /usr/local/lib/python3.9/dist-packages (from statsmodels<0.14,>=0.13.2->ydata-profiling) (0.5.3)\n",
            "Requirement already satisfied: six in /usr/local/lib/python3.9/dist-packages (from patsy>=0.5.2->statsmodels<0.14,>=0.13.2->ydata-profiling) (1.16.0)\n",
            "Installing collected packages: typeguard, tqdm, scipy, matplotlib, visions, ydata-profiling\n",
            "  Attempting uninstall: tqdm\n",
            "    Found existing installation: tqdm 4.65.0\n",
            "    Uninstalling tqdm-4.65.0:\n",
            "      Successfully uninstalled tqdm-4.65.0\n",
            "  Attempting uninstall: scipy\n",
            "    Found existing installation: scipy 1.10.1\n",
            "    Uninstalling scipy-1.10.1:\n",
            "      Successfully uninstalled scipy-1.10.1\n",
            "  Attempting uninstall: matplotlib\n",
            "    Found existing installation: matplotlib 3.7.1\n",
            "    Uninstalling matplotlib-3.7.1:\n",
            "      Successfully uninstalled matplotlib-3.7.1\n",
            "  Attempting uninstall: visions\n",
            "    Found existing installation: visions 0.7.4\n",
            "    Uninstalling visions-0.7.4:\n",
            "      Successfully uninstalled visions-0.7.4\n",
            "\u001b[31mERROR: pip's dependency resolver does not currently take into account all the packages that are installed. This behaviour is the source of the following dependency conflicts.\n",
            "pandas-profiling 3.2.0 requires visions[type_image_path]==0.7.4, but you have visions 0.7.5 which is incompatible.\u001b[0m\u001b[31m\n",
            "\u001b[0mSuccessfully installed matplotlib-3.6.3 scipy-1.9.3 tqdm-4.64.1 typeguard-2.13.3 visions-0.7.5 ydata-profiling-4.1.2\n"
          ]
        }
      ]
    },
    {
      "cell_type": "code",
      "source": [
        "!pip install contractions"
      ],
      "metadata": {
        "colab": {
          "base_uri": "https://localhost:8080/"
        },
        "id": "-dRf0WXgQyAM",
        "outputId": "44712575-9965-4de3-9041-7470da87c2bd"
      },
      "execution_count": 3,
      "outputs": [
        {
          "output_type": "stream",
          "name": "stdout",
          "text": [
            "Looking in indexes: https://pypi.org/simple, https://us-python.pkg.dev/colab-wheels/public/simple/\n",
            "Collecting contractions\n",
            "  Downloading contractions-0.1.73-py2.py3-none-any.whl (8.7 kB)\n",
            "Collecting textsearch>=0.0.21\n",
            "  Downloading textsearch-0.0.24-py2.py3-none-any.whl (7.6 kB)\n",
            "Collecting anyascii\n",
            "  Downloading anyascii-0.3.2-py3-none-any.whl (289 kB)\n",
            "\u001b[2K     \u001b[90m━━━━━━━━━━━━━━━━━━━━━━━━━━━━━━━━━━━━━━\u001b[0m \u001b[32m289.9/289.9 KB\u001b[0m \u001b[31m22.8 MB/s\u001b[0m eta \u001b[36m0:00:00\u001b[0m\n",
            "\u001b[?25hCollecting pyahocorasick\n",
            "  Downloading pyahocorasick-2.0.0-cp39-cp39-manylinux_2_5_x86_64.manylinux1_x86_64.whl (103 kB)\n",
            "\u001b[2K     \u001b[90m━━━━━━━━━━━━━━━━━━━━━━━━━━━━━━━━━━━━━━\u001b[0m \u001b[32m103.2/103.2 KB\u001b[0m \u001b[31m15.2 MB/s\u001b[0m eta \u001b[36m0:00:00\u001b[0m\n",
            "\u001b[?25hInstalling collected packages: pyahocorasick, anyascii, textsearch, contractions\n",
            "Successfully installed anyascii-0.3.2 contractions-0.1.73 pyahocorasick-2.0.0 textsearch-0.0.24\n"
          ]
        }
      ]
    },
    {
      "cell_type": "code",
      "source": [
        "from pandas_profiling import ProfileReport\n",
        "from ydata_profiling import ProfileReport\n",
        "\n",
        "# Pandas\n",
        "import pandas as pd\n",
        "pd.set_option('display.max_columns', 25) # Número máximo de columnas\n",
        "pd.set_option('display.max_rows', 50) # Numero máximo de filas\n",
        "\n",
        "# Numpy\n",
        "import numpy as np\n",
        "np.random.seed(3301)\n",
        "\n",
        "# Seaborn\n",
        "import seaborn as sns \n",
        "\n",
        "# Matplolib\n",
        "%matplotlib inline\n",
        "import matplotlib.pyplot as plt\n",
        "\n",
        "# librerias para trabajar con texto\n",
        "import unicodedata\n",
        "import string\n",
        "from nltk.stem import LancasterStemmer, WordNetLemmatizer\n",
        "import re\n",
        "import contractions\n",
        "from nltk.corpus import stopwords\n",
        "from nltk import word_tokenize, sent_tokenize\n",
        "import inflect\n",
        "import nltk\n",
        "# Punkt permite separar un text en frases.\n",
        "nltk.download('punkt')\n",
        "nltk.download('stopwords')\n",
        "nltk.download('wordnet')\n",
        "nltk.download('omw-1.4')"
      ],
      "metadata": {
        "colab": {
          "base_uri": "https://localhost:8080/"
        },
        "id": "XQ-Bb2BcGVjp",
        "outputId": "6070e2b7-09c6-4577-bf2f-ad74bb3a2203"
      },
      "execution_count": 5,
      "outputs": [
        {
          "output_type": "stream",
          "name": "stderr",
          "text": [
            "[nltk_data] Downloading package punkt to /root/nltk_data...\n",
            "[nltk_data]   Package punkt is already up-to-date!\n",
            "[nltk_data] Downloading package stopwords to /root/nltk_data...\n",
            "[nltk_data]   Package stopwords is already up-to-date!\n",
            "[nltk_data] Downloading package wordnet to /root/nltk_data...\n",
            "[nltk_data]   Package wordnet is already up-to-date!\n",
            "[nltk_data] Downloading package omw-1.4 to /root/nltk_data...\n",
            "[nltk_data]   Package omw-1.4 is already up-to-date!\n"
          ]
        },
        {
          "output_type": "execute_result",
          "data": {
            "text/plain": [
              "True"
            ]
          },
          "metadata": {},
          "execution_count": 5
        }
      ]
    },
    {
      "cell_type": "code",
      "source": [
        "db_route = 'sample_data/MovieReviews.csv'\n",
        "df_originales = pd.read_csv(db_route, encoding = 'ISO-8859-1')\n",
        "\n",
        "# Imprimir número de filas\n",
        "print('Número de filas: ', df_originales.shape[0])\n",
        "# Imprimir número de columnas\n",
        "print('Número de columnas: ', df_originales.shape[1])\n",
        "\n",
        "pd.set_option('display.max_columns', None)\n",
        "df_originales.sample(5)"
      ],
      "metadata": {
        "colab": {
          "base_uri": "https://localhost:8080/",
          "height": 241
        },
        "id": "y7Fawfm90EcG",
        "outputId": "56462128-46fd-47bf-e7c7-12d31c7b8cb1"
      },
      "execution_count": 6,
      "outputs": [
        {
          "output_type": "stream",
          "name": "stdout",
          "text": [
            "Número de filas:  5000\n",
            "Número de columnas:  3\n"
          ]
        },
        {
          "output_type": "execute_result",
          "data": {
            "text/plain": [
              "      Unnamed: 0                                          review_es  \\\n",
              "3627        3627  Antes de empezar, permÃ­tanme decir que mi exp...   \n",
              "3737        3737  PensarÃ­as que el primer aterrizaje en la luna...   \n",
              "4386        4386  Esta pelÃ­cula es, con mucho, la peor pelÃ­cul...   \n",
              "2953        2953  La primera vez que vi esto reproducÃ© con horr...   \n",
              "645          645  Esta pelÃ­cula se realizÃ³ justo en el Ã¡rea d...   \n",
              "\n",
              "     sentimiento  \n",
              "3627    negativo  \n",
              "3737    negativo  \n",
              "4386    negativo  \n",
              "2953    negativo  \n",
              "645     positivo  "
            ],
            "text/html": [
              "\n",
              "  <div id=\"df-05e63c2b-7c89-460a-a18b-a936743b6af7\">\n",
              "    <div class=\"colab-df-container\">\n",
              "      <div>\n",
              "<style scoped>\n",
              "    .dataframe tbody tr th:only-of-type {\n",
              "        vertical-align: middle;\n",
              "    }\n",
              "\n",
              "    .dataframe tbody tr th {\n",
              "        vertical-align: top;\n",
              "    }\n",
              "\n",
              "    .dataframe thead th {\n",
              "        text-align: right;\n",
              "    }\n",
              "</style>\n",
              "<table border=\"1\" class=\"dataframe\">\n",
              "  <thead>\n",
              "    <tr style=\"text-align: right;\">\n",
              "      <th></th>\n",
              "      <th>Unnamed: 0</th>\n",
              "      <th>review_es</th>\n",
              "      <th>sentimiento</th>\n",
              "    </tr>\n",
              "  </thead>\n",
              "  <tbody>\n",
              "    <tr>\n",
              "      <th>3627</th>\n",
              "      <td>3627</td>\n",
              "      <td>Antes de empezar, permÃ­tanme decir que mi exp...</td>\n",
              "      <td>negativo</td>\n",
              "    </tr>\n",
              "    <tr>\n",
              "      <th>3737</th>\n",
              "      <td>3737</td>\n",
              "      <td>PensarÃ­as que el primer aterrizaje en la luna...</td>\n",
              "      <td>negativo</td>\n",
              "    </tr>\n",
              "    <tr>\n",
              "      <th>4386</th>\n",
              "      <td>4386</td>\n",
              "      <td>Esta pelÃ­cula es, con mucho, la peor pelÃ­cul...</td>\n",
              "      <td>negativo</td>\n",
              "    </tr>\n",
              "    <tr>\n",
              "      <th>2953</th>\n",
              "      <td>2953</td>\n",
              "      <td>La primera vez que vi esto reproducÃ© con horr...</td>\n",
              "      <td>negativo</td>\n",
              "    </tr>\n",
              "    <tr>\n",
              "      <th>645</th>\n",
              "      <td>645</td>\n",
              "      <td>Esta pelÃ­cula se realizÃ³ justo en el Ã¡rea d...</td>\n",
              "      <td>positivo</td>\n",
              "    </tr>\n",
              "  </tbody>\n",
              "</table>\n",
              "</div>\n",
              "      <button class=\"colab-df-convert\" onclick=\"convertToInteractive('df-05e63c2b-7c89-460a-a18b-a936743b6af7')\"\n",
              "              title=\"Convert this dataframe to an interactive table.\"\n",
              "              style=\"display:none;\">\n",
              "        \n",
              "  <svg xmlns=\"http://www.w3.org/2000/svg\" height=\"24px\"viewBox=\"0 0 24 24\"\n",
              "       width=\"24px\">\n",
              "    <path d=\"M0 0h24v24H0V0z\" fill=\"none\"/>\n",
              "    <path d=\"M18.56 5.44l.94 2.06.94-2.06 2.06-.94-2.06-.94-.94-2.06-.94 2.06-2.06.94zm-11 1L8.5 8.5l.94-2.06 2.06-.94-2.06-.94L8.5 2.5l-.94 2.06-2.06.94zm10 10l.94 2.06.94-2.06 2.06-.94-2.06-.94-.94-2.06-.94 2.06-2.06.94z\"/><path d=\"M17.41 7.96l-1.37-1.37c-.4-.4-.92-.59-1.43-.59-.52 0-1.04.2-1.43.59L10.3 9.45l-7.72 7.72c-.78.78-.78 2.05 0 2.83L4 21.41c.39.39.9.59 1.41.59.51 0 1.02-.2 1.41-.59l7.78-7.78 2.81-2.81c.8-.78.8-2.07 0-2.86zM5.41 20L4 18.59l7.72-7.72 1.47 1.35L5.41 20z\"/>\n",
              "  </svg>\n",
              "      </button>\n",
              "      \n",
              "  <style>\n",
              "    .colab-df-container {\n",
              "      display:flex;\n",
              "      flex-wrap:wrap;\n",
              "      gap: 12px;\n",
              "    }\n",
              "\n",
              "    .colab-df-convert {\n",
              "      background-color: #E8F0FE;\n",
              "      border: none;\n",
              "      border-radius: 50%;\n",
              "      cursor: pointer;\n",
              "      display: none;\n",
              "      fill: #1967D2;\n",
              "      height: 32px;\n",
              "      padding: 0 0 0 0;\n",
              "      width: 32px;\n",
              "    }\n",
              "\n",
              "    .colab-df-convert:hover {\n",
              "      background-color: #E2EBFA;\n",
              "      box-shadow: 0px 1px 2px rgba(60, 64, 67, 0.3), 0px 1px 3px 1px rgba(60, 64, 67, 0.15);\n",
              "      fill: #174EA6;\n",
              "    }\n",
              "\n",
              "    [theme=dark] .colab-df-convert {\n",
              "      background-color: #3B4455;\n",
              "      fill: #D2E3FC;\n",
              "    }\n",
              "\n",
              "    [theme=dark] .colab-df-convert:hover {\n",
              "      background-color: #434B5C;\n",
              "      box-shadow: 0px 1px 3px 1px rgba(0, 0, 0, 0.15);\n",
              "      filter: drop-shadow(0px 1px 2px rgba(0, 0, 0, 0.3));\n",
              "      fill: #FFFFFF;\n",
              "    }\n",
              "  </style>\n",
              "\n",
              "      <script>\n",
              "        const buttonEl =\n",
              "          document.querySelector('#df-05e63c2b-7c89-460a-a18b-a936743b6af7 button.colab-df-convert');\n",
              "        buttonEl.style.display =\n",
              "          google.colab.kernel.accessAllowed ? 'block' : 'none';\n",
              "\n",
              "        async function convertToInteractive(key) {\n",
              "          const element = document.querySelector('#df-05e63c2b-7c89-460a-a18b-a936743b6af7');\n",
              "          const dataTable =\n",
              "            await google.colab.kernel.invokeFunction('convertToInteractive',\n",
              "                                                     [key], {});\n",
              "          if (!dataTable) return;\n",
              "\n",
              "          const docLinkHtml = 'Like what you see? Visit the ' +\n",
              "            '<a target=\"_blank\" href=https://colab.research.google.com/notebooks/data_table.ipynb>data table notebook</a>'\n",
              "            + ' to learn more about interactive tables.';\n",
              "          element.innerHTML = '';\n",
              "          dataTable['output_type'] = 'display_data';\n",
              "          await google.colab.output.renderOutput(dataTable, element);\n",
              "          const docLink = document.createElement('div');\n",
              "          docLink.innerHTML = docLinkHtml;\n",
              "          element.appendChild(docLink);\n",
              "        }\n",
              "      </script>\n",
              "    </div>\n",
              "  </div>\n",
              "  "
            ]
          },
          "metadata": {},
          "execution_count": 6
        }
      ]
    },
    {
      "cell_type": "code",
      "source": [
        "# Visualizar en gráfica de barras cantidad de valores por valor en la columna 'sentimiento'\n",
        "df_originales['sentimiento'].value_counts().plot(kind='bar', title='sentimiento')"
      ],
      "metadata": {
        "colab": {
          "base_uri": "https://localhost:8080/",
          "height": 516
        },
        "id": "fRyEcO1605lu",
        "outputId": "fe00c3d1-1618-4986-f506-b6582f84c486"
      },
      "execution_count": 7,
      "outputs": [
        {
          "output_type": "execute_result",
          "data": {
            "text/plain": [
              "<Axes: title={'center': 'sentimiento'}>"
            ]
          },
          "metadata": {},
          "execution_count": 7
        },
        {
          "output_type": "display_data",
          "data": {
            "text/plain": [
              "<Figure size 640x480 with 1 Axes>"
            ],
            "image/png": "[encoded data removed]"
          },
          "metadata": {}
        }
      ]
    },
    {
      "cell_type": "markdown",
      "source": [
        "Para las primeras pruebas en busca de disminuir los tiempos de ejecución, se utilizan solo 5000 registros aleatorios. Estos 5000 registros, se seleccionan balanceados entre registros clasificados como registros positivos y negativos. Ya cuando se tenga el modelo probado, se utilizarán todos los datos."
      ],
      "metadata": {
        "id": "yV_iaIWv1uA0"
      }
    },
    {
      "cell_type": "code",
      "source": [
        "df_originales = df_originales.groupby('sentimiento', group_keys=False).apply(lambda x: x.sample(min(len(x), 2500)))\n",
        "df_originales = df_originales.sample(n=5000)\n",
        "\n",
        "## Imprimir número de filas\n",
        "print('Número de filas: ', df_originales.shape[0])\n",
        "## Imprimir número de columnas\n",
        "print('Número de columnas: ', df_originales.shape[1])"
      ],
      "metadata": {
        "colab": {
          "base_uri": "https://localhost:8080/"
        },
        "id": "6JJkWIBj2B58",
        "outputId": "a6c43c10-cc77-4f0f-80e5-e904a5ec6a73"
      },
      "execution_count": 8,
      "outputs": [
        {
          "output_type": "stream",
          "name": "stdout",
          "text": [
            "Número de filas:  5000\n",
            "Número de columnas:  3\n"
          ]
        }
      ]
    },
    {
      "cell_type": "markdown",
      "source": [
        "##Limpieza y entendimiento de los datos\n"
      ],
      "metadata": {
        "id": "2cUrQAAYGx9i"
      }
    },
    {
      "cell_type": "code",
      "source": [
        "\n",
        "# Ver datos nulos\n",
        "print(\"\\nNúmero de filas con valores nulos: \", df_originales.isnull().any(axis=1).sum())\n",
        "print(\"Número de columnas con valores nulos: \", df_originales.isnull().any().sum())\n",
        "\n",
        "# Porcentaje de completitud\n",
        "print(f\"\\nPorcentaje de completitud de las columnas: {(1-(df_originales.isnull().any(axis=1).sum()/df_originales.shape[0]))*100:.2f}%\")"
      ],
      "metadata": {
        "colab": {
          "base_uri": "https://localhost:8080/"
        },
        "id": "GHYZ_yucG2DT",
        "outputId": "983a0711-40e3-4298-857f-f74f45f828b6"
      },
      "execution_count": 9,
      "outputs": [
        {
          "output_type": "stream",
          "name": "stdout",
          "text": [
            "\n",
            "Número de filas con valores nulos:  0\n",
            "Número de columnas con valores nulos:  0\n",
            "\n",
            "Porcentaje de completitud de las columnas: 100.00%\n"
          ]
        }
      ]
    },
    {
      "cell_type": "code",
      "source": [
        "# Ver duplicidad de datos\n",
        "print(\"\\nNúmero de filas duplicadas: \", df_originales.duplicated().sum())\n",
        "print(\"Número de filas con indice duplicado: \", df_originales['Unnamed: 0'].duplicated().sum())"
      ],
      "metadata": {
        "colab": {
          "base_uri": "https://localhost:8080/"
        },
        "id": "EGCeNvLvG4HO",
        "outputId": "cfa94629-e872-4b96-85a1-9588256da937"
      },
      "execution_count": 10,
      "outputs": [
        {
          "output_type": "stream",
          "name": "stdout",
          "text": [
            "\n",
            "Número de filas duplicadas:  0\n",
            "Número de filas con indice duplicado:  0\n"
          ]
        }
      ]
    },
    {
      "cell_type": "code",
      "source": [
        "# Eliminar columna 'Unnamed: 0'\n",
        "df_originales.drop('Unnamed: 0', axis=1, inplace=True)\n",
        "# Convertir valores de la columna review_es a string\n",
        "df_originales['review_es'] = df_originales['review_es'].astype(str)"
      ],
      "metadata": {
        "id": "N76PSGTqQY19"
      },
      "execution_count": 11,
      "outputs": []
    },
    {
      "cell_type": "code",
      "source": [
        "# Obtener valores únicos columna 'class' \n",
        "print(df_originales['sentimiento'].value_counts())\n",
        "\n",
        "# En la columna 'sentimiento' cambiar valores 'negativo' por 0 y 'positivo' por 1\n",
        "df_originales['sentimiento'] = df_originales['sentimiento'].replace({'negativo': 0, 'positivo':1})\n",
        "\n",
        "# Obtener valores únicos columna 'sentimiento' \n",
        "print(df_originales['sentimiento'].value_counts())\n",
        "\n",
        "# Convertir la columna en numerica\n",
        "df_originales['sentimiento'] = df_originales['sentimiento'].astype(int)"
      ],
      "metadata": {
        "colab": {
          "base_uri": "https://localhost:8080/"
        },
        "id": "2WjZGo4tQY8u",
        "outputId": "f84673ea-a4a8-465a-da24-21199291b7f7"
      },
      "execution_count": 12,
      "outputs": [
        {
          "output_type": "stream",
          "name": "stdout",
          "text": [
            "negativo    2500\n",
            "positivo    2500\n",
            "Name: sentimiento, dtype: int64\n",
            "0    2500\n",
            "1    2500\n",
            "Name: sentimiento, dtype: int64\n"
          ]
        }
      ]
    },
    {
      "cell_type": "markdown",
      "source": [
        "## Procesamiento de texto"
      ],
      "metadata": {
        "id": "VhOdzF1WTtAN"
      }
    },
    {
      "cell_type": "markdown",
      "source": [
        "Por motivos de sencilles y tiempos de respuesta empleamos un preprocesamiento antes de separar los datos en tokens. Eliminamos los caracteres especiales, puntuación y números, y se convierte el texto a minúscula, ya que considerar mayúsculas o minusculas no tiene sentido."
      ],
      "metadata": {
        "id": "eGOuGRDSTziF"
      }
    },
    {
      "cell_type": "code",
      "source": [
        "# Eliminar caracteres distintos al alfabeto en la columna 'review_es'\n",
        "df_originales['review_es'] = df_originales['review_es'].str.replace('[^a-zA-Z ]', '')\n",
        "\n",
        "# Convertir columna review_es a minúsculas\n",
        "df_originales['review_es'] = df_originales['review_es'].str.lower()"
      ],
      "metadata": {
        "colab": {
          "base_uri": "https://localhost:8080/"
        },
        "id": "YsxcUxIhTwy3",
        "outputId": "ad6378a5-698b-4e51-c2a3-2f90b55af78d"
      },
      "execution_count": 14,
      "outputs": [
        {
          "output_type": "stream",
          "name": "stderr",
          "text": [
            "<ipython-input-14-d70830359019>:2: FutureWarning: The default value of regex will change from True to False in a future version.\n",
            "  df_originales['review_es'] = df_originales['review_es'].str.replace('[^a-zA-Z ]', '')\n"
          ]
        }
      ]
    },
    {
      "cell_type": "markdown",
      "source": [
        "Métodos para preprocesamiento de texto:"
      ],
      "metadata": {
        "id": "E9ouf5WnUu3T"
      }
    },
    {
      "cell_type": "code",
      "source": [
        "def remove_non_ascii(words):\n",
        "    \"\"\"Remove non-ASCII characters from list of tokenized words\"\"\"\n",
        "    new_words = []\n",
        "    for word in words:\n",
        "        new_word = unicodedata.normalize('NFKD', word).encode(\n",
        "            'ascii', 'ignore').decode('utf-8', 'ignore')\n",
        "        new_words.append(new_word)\n",
        "    return new_words\n",
        "\n",
        "def to_lowercase(words):\n",
        "    \"\"\"Convert all characters to lowercase from list of tokenized words\"\"\"\n",
        "    new_words = []\n",
        "    for word in words:\n",
        "        new_word = word.lower()\n",
        "        new_words.append(new_word)\n",
        "    return new_words\n",
        "\n",
        "\n",
        "def remove_punctuation(words):\n",
        "    \"\"\"Remove punctuation from list of tokenized words\"\"\"\n",
        "    new_words = []\n",
        "    for word in words:\n",
        "        new_word = re.sub(r'[^\\w\\s]', '', word)\n",
        "        if new_word != '':\n",
        "            new_words.append(new_word)\n",
        "    return new_words\n",
        "\n",
        "def replace_numbers(words):\n",
        "    \"\"\"Replace all interger occurrences in list of tokenized words with textual representation\"\"\"\n",
        "    p = inflect.engine()\n",
        "    new_words = []\n",
        "    for word in words:\n",
        "        if word.isdigit():\n",
        "            new_word = p.number_to_words(word)\n",
        "            new_words.append(new_word)\n",
        "        else:\n",
        "            new_words.append(word)\n",
        "    return new_words\n",
        "\n",
        "def remove_stopwords(words):\n",
        "    \"\"\"Remove stop words from list of tokenized words\"\"\"\n",
        "    new_words = []\n",
        "    for word in words:\n",
        "        if word not in stopwords.words('english'):\n",
        "            new_words.append(word)\n",
        "    return new_words\n",
        "\n",
        "def remove_words_without_vowels(words):\n",
        "    \"\"\"Remove words without vowels from list of tokenized words\"\"\"\n",
        "    new_words = []\n",
        "    for word in words:\n",
        "        if re.search('[aeiouy]', word):\n",
        "            new_words.append(word)\n",
        "    return new_words\n",
        "\n",
        "def preprocessing(words):\n",
        "    # words = to_lowercase(words)\n",
        "    # words = replace_numbers(words)\n",
        "    # words = remove_punctuation(words)\n",
        "    # words = remove_non_ascii(words)\n",
        "    words = remove_words_without_vowels(words)\n",
        "    words = remove_stopwords(words)\n",
        "    return words"
      ],
      "metadata": {
        "id": "6lOX8aYwUvEG"
      },
      "execution_count": 15,
      "outputs": []
    },
    {
      "cell_type": "code",
      "source": [
        "df_modelo = df_originales.copy()\n",
        "df_modelo['review_es'] = df_modelo['review_es'].apply(contractions.fix)"
      ],
      "metadata": {
        "id": "hYZtZqFfVlLW"
      },
      "execution_count": 16,
      "outputs": []
    },
    {
      "cell_type": "code",
      "source": [
        "df_modelo['tokens'] = df_modelo['review_es'].apply(word_tokenize).apply(preprocessing) \n",
        "# Eliminar tokens vacíos y con longitud menor a 2\n",
        "df_modelo['tokens'] = df_modelo['tokens'].apply(lambda x: [item for item in x if item != '' and (len(item) >= 2 or item == 'i')])"
      ],
      "metadata": {
        "id": "yqJZgdeXVpcY"
      },
      "execution_count": 17,
      "outputs": []
    },
    {
      "cell_type": "markdown",
      "source": [
        "Métodos lematización y eliminación de prefijos y sufijos (stemming) [PROCESO DE NORMALIZACIÓN]:"
      ],
      "metadata": {
        "id": "t9r64aX9WZUn"
      }
    },
    {
      "cell_type": "code",
      "source": [
        "def stem_words(words):\n",
        "    # Stem: cortar la raíz de una palabra\n",
        "    \"\"\"Stem words in list of tokenized words\"\"\"\n",
        "    stemmer = LancasterStemmer()\n",
        "    stems = []\n",
        "    for word in words:\n",
        "        stem = stemmer.stem(word)\n",
        "        stems.append(stem)\n",
        "    return stems\n",
        "\n",
        "def lemmatize_verbs(words):\n",
        "    \"\"\"Lemmatize verbs in list of tokenized words\"\"\"\n",
        "    lemmatizer = WordNetLemmatizer()\n",
        "    lemmas = []\n",
        "    for word in words:\n",
        "        lemma = lemmatizer.lemmatize(word, pos='v')\n",
        "        lemmas.append(lemma)\n",
        "    return lemmas\n",
        "\n",
        "def stem_and_lemmatize(words):\n",
        "    stems = stem_words(words)\n",
        "    lemmas = lemmatize_verbs(words)\n",
        "    return stems + lemmas"
      ],
      "metadata": {
        "id": "Xbl0NTy2Wocd"
      },
      "execution_count": 18,
      "outputs": []
    },
    {
      "cell_type": "code",
      "source": [
        "# Aplica lematización y Eliminación de Prefijos y Sufijos.\n",
        "df_modelo['tokens'] = df_modelo['tokens'].apply(stem_and_lemmatize)\n",
        "\n",
        "df_modelo.sample(5)"
      ],
      "metadata": {
        "colab": {
          "base_uri": "https://localhost:8080/",
          "height": 206
        },
        "id": "CBSKSJUkWqaC",
        "outputId": "3b54557d-03f5-4d9a-a5dc-787e6f071ace"
      },
      "execution_count": 19,
      "outputs": [
        {
          "output_type": "execute_result",
          "data": {
            "text/plain": [
              "                                              review_es  sentimiento  \\\n",
              "2029  sinceramente no s qu palabras imdb me permitir...            1   \n",
              "4687  desde el principio hasta que haya estado en el...            0   \n",
              "1761  esta pelcula es uno de los mejores pantalones ...            1   \n",
              "2703  wow es todo lo que puedo decir si su lectura s...            0   \n",
              "4791  truly awful obviously an attempt to cash in on...            0   \n",
              "\n",
              "                                                 tokens  \n",
              "2029  [sincera, qu, palabra, imdb, permitir, us, en,...  \n",
              "4687  [desd, el, principio, hast, que, hay, estado, ...  \n",
              "1761  [est, pelcul, es, uno, de, los, mej, pantalon,...  \n",
              "2703  [wow, es, todo, lo, que, puedo, decir, si, su,...  \n",
              "4791  [tru, aw, obvy, attempt, cash, star, war, craz...  "
            ],
            "text/html": [
              "\n",
              "  <div id=\"df-3e2984e9-9995-44d7-ac0f-3e40a447a698\">\n",
              "    <div class=\"colab-df-container\">\n",
              "      <div>\n",
              "<style scoped>\n",
              "    .dataframe tbody tr th:only-of-type {\n",
              "        vertical-align: middle;\n",
              "    }\n",
              "\n",
              "    .dataframe tbody tr th {\n",
              "        vertical-align: top;\n",
              "    }\n",
              "\n",
              "    .dataframe thead th {\n",
              "        text-align: right;\n",
              "    }\n",
              "</style>\n",
              "<table border=\"1\" class=\"dataframe\">\n",
              "  <thead>\n",
              "    <tr style=\"text-align: right;\">\n",
              "      <th></th>\n",
              "      <th>review_es</th>\n",
              "      <th>sentimiento</th>\n",
              "      <th>tokens</th>\n",
              "    </tr>\n",
              "  </thead>\n",
              "  <tbody>\n",
              "    <tr>\n",
              "      <th>2029</th>\n",
              "      <td>sinceramente no s qu palabras imdb me permitir...</td>\n",
              "      <td>1</td>\n",
              "      <td>[sincera, qu, palabra, imdb, permitir, us, en,...</td>\n",
              "    </tr>\n",
              "    <tr>\n",
              "      <th>4687</th>\n",
              "      <td>desde el principio hasta que haya estado en el...</td>\n",
              "      <td>0</td>\n",
              "      <td>[desd, el, principio, hast, que, hay, estado, ...</td>\n",
              "    </tr>\n",
              "    <tr>\n",
              "      <th>1761</th>\n",
              "      <td>esta pelcula es uno de los mejores pantalones ...</td>\n",
              "      <td>1</td>\n",
              "      <td>[est, pelcul, es, uno, de, los, mej, pantalon,...</td>\n",
              "    </tr>\n",
              "    <tr>\n",
              "      <th>2703</th>\n",
              "      <td>wow es todo lo que puedo decir si su lectura s...</td>\n",
              "      <td>0</td>\n",
              "      <td>[wow, es, todo, lo, que, puedo, decir, si, su,...</td>\n",
              "    </tr>\n",
              "    <tr>\n",
              "      <th>4791</th>\n",
              "      <td>truly awful obviously an attempt to cash in on...</td>\n",
              "      <td>0</td>\n",
              "      <td>[tru, aw, obvy, attempt, cash, star, war, craz...</td>\n",
              "    </tr>\n",
              "  </tbody>\n",
              "</table>\n",
              "</div>\n",
              "      <button class=\"colab-df-convert\" onclick=\"convertToInteractive('df-3e2984e9-9995-44d7-ac0f-3e40a447a698')\"\n",
              "              title=\"Convert this dataframe to an interactive table.\"\n",
              "              style=\"display:none;\">\n",
              "        \n",
              "  <svg xmlns=\"http://www.w3.org/2000/svg\" height=\"24px\"viewBox=\"0 0 24 24\"\n",
              "       width=\"24px\">\n",
              "    <path d=\"M0 0h24v24H0V0z\" fill=\"none\"/>\n",
              "    <path d=\"M18.56 5.44l.94 2.06.94-2.06 2.06-.94-2.06-.94-.94-2.06-.94 2.06-2.06.94zm-11 1L8.5 8.5l.94-2.06 2.06-.94-2.06-.94L8.5 2.5l-.94 2.06-2.06.94zm10 10l.94 2.06.94-2.06 2.06-.94-2.06-.94-.94-2.06-.94 2.06-2.06.94z\"/><path d=\"M17.41 7.96l-1.37-1.37c-.4-.4-.92-.59-1.43-.59-.52 0-1.04.2-1.43.59L10.3 9.45l-7.72 7.72c-.78.78-.78 2.05 0 2.83L4 21.41c.39.39.9.59 1.41.59.51 0 1.02-.2 1.41-.59l7.78-7.78 2.81-2.81c.8-.78.8-2.07 0-2.86zM5.41 20L4 18.59l7.72-7.72 1.47 1.35L5.41 20z\"/>\n",
              "  </svg>\n",
              "      </button>\n",
              "      \n",
              "  <style>\n",
              "    .colab-df-container {\n",
              "      display:flex;\n",
              "      flex-wrap:wrap;\n",
              "      gap: 12px;\n",
              "    }\n",
              "\n",
              "    .colab-df-convert {\n",
              "      background-color: #E8F0FE;\n",
              "      border: none;\n",
              "      border-radius: 50%;\n",
              "      cursor: pointer;\n",
              "      display: none;\n",
              "      fill: #1967D2;\n",
              "      height: 32px;\n",
              "      padding: 0 0 0 0;\n",
              "      width: 32px;\n",
              "    }\n",
              "\n",
              "    .colab-df-convert:hover {\n",
              "      background-color: #E2EBFA;\n",
              "      box-shadow: 0px 1px 2px rgba(60, 64, 67, 0.3), 0px 1px 3px 1px rgba(60, 64, 67, 0.15);\n",
              "      fill: #174EA6;\n",
              "    }\n",
              "\n",
              "    [theme=dark] .colab-df-convert {\n",
              "      background-color: #3B4455;\n",
              "      fill: #D2E3FC;\n",
              "    }\n",
              "\n",
              "    [theme=dark] .colab-df-convert:hover {\n",
              "      background-color: #434B5C;\n",
              "      box-shadow: 0px 1px 3px 1px rgba(0, 0, 0, 0.15);\n",
              "      filter: drop-shadow(0px 1px 2px rgba(0, 0, 0, 0.3));\n",
              "      fill: #FFFFFF;\n",
              "    }\n",
              "  </style>\n",
              "\n",
              "      <script>\n",
              "        const buttonEl =\n",
              "          document.querySelector('#df-3e2984e9-9995-44d7-ac0f-3e40a447a698 button.colab-df-convert');\n",
              "        buttonEl.style.display =\n",
              "          google.colab.kernel.accessAllowed ? 'block' : 'none';\n",
              "\n",
              "        async function convertToInteractive(key) {\n",
              "          const element = document.querySelector('#df-3e2984e9-9995-44d7-ac0f-3e40a447a698');\n",
              "          const dataTable =\n",
              "            await google.colab.kernel.invokeFunction('convertToInteractive',\n",
              "                                                     [key], {});\n",
              "          if (!dataTable) return;\n",
              "\n",
              "          const docLinkHtml = 'Like what you see? Visit the ' +\n",
              "            '<a target=\"_blank\" href=https://colab.research.google.com/notebooks/data_table.ipynb>data table notebook</a>'\n",
              "            + ' to learn more about interactive tables.';\n",
              "          element.innerHTML = '';\n",
              "          dataTable['output_type'] = 'display_data';\n",
              "          await google.colab.output.renderOutput(dataTable, element);\n",
              "          const docLink = document.createElement('div');\n",
              "          docLink.innerHTML = docLinkHtml;\n",
              "          element.appendChild(docLink);\n",
              "        }\n",
              "      </script>\n",
              "    </div>\n",
              "  </div>\n",
              "  "
            ]
          },
          "metadata": {},
          "execution_count": 19
        }
      ]
    },
    {
      "cell_type": "code",
      "source": [
        "df_modelo['tokens'] = df_modelo['tokens'].apply(\n",
        "    lambda x: ' '.join(map(str, x)))"
      ],
      "metadata": {
        "id": "SSb1i7mgWuqb"
      },
      "execution_count": 20,
      "outputs": []
    },
    {
      "cell_type": "code",
      "source": [
        "# Eliminación de columna 'review_es' para disminuir el tamaño del dataset\n",
        "df_modelo.drop('review_es', axis=1, inplace=True)\n",
        "\n",
        "# Eliminar filas con valores nulos\n",
        "df_modelo.dropna(inplace=True)"
      ],
      "metadata": {
        "id": "eJGjaHZ5Wwii"
      },
      "execution_count": 21,
      "outputs": []
    },
    {
      "cell_type": "markdown",
      "source": [
        "## Vectorización de texto\n",
        "\n",
        "La vectorización de datos se va a realizar utilizando la librería sklearn.feature_extraction.text.TfidfVectorizer."
      ],
      "metadata": {
        "id": "WIyj6Z7EXU3X"
      }
    },
    {
      "cell_type": "markdown",
      "source": [
        "## Exportacion de los datos\n",
        "#### En este caso se hace una exportacion de los datos por sencilles. Ya que cada integrante trabajara su algoritmo en un notebook diferente. Por lo que lo mas sencillo es separar este entendimiento y limpieza de datos de la implementacion de los algoritmos."
      ],
      "metadata": {
        "id": "LsCH6G6yTLdk"
      }
    },
    {
      "cell_type": "code",
      "source": [
        "from pathlib import Path\n",
        "\n",
        "try:\n",
        "    filepath = Path('sample_data/processed_data.csv')\n",
        "    df_modelo.to_csv(filepath, index=False)\n",
        "    print(\"Archivo guardado\")\n",
        "except Exception as e:\n",
        "    print(\"Error guardando el archivo: \" + str(e))"
      ],
      "metadata": {
        "colab": {
          "base_uri": "https://localhost:8080/"
        },
        "id": "sGTj4KUgTcZV",
        "outputId": "483abb8e-6547-4c8c-e801-ba7bfed361ca"
      },
      "execution_count": 23,
      "outputs": [
        {
          "output_type": "stream",
          "name": "stdout",
          "text": [
            "Archivo guardado\n"
          ]
        }
      ]
    }
  ]
}